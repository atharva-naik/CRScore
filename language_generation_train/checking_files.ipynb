{
 "cells": [
  {
   "cell_type": "code",
   "execution_count": 11,
   "metadata": {},
   "outputs": [],
   "source": [
    "import pandas as pd\n",
    "import numpy as np\n",
    "import os\n",
    "from tqdm import tqdm"
   ]
  },
  {
   "cell_type": "code",
   "execution_count": 17,
   "metadata": {},
   "outputs": [
    {
     "data": {
      "text/html": [
       "<div>\n",
       "<style scoped>\n",
       "    .dataframe tbody tr th:only-of-type {\n",
       "        vertical-align: middle;\n",
       "    }\n",
       "\n",
       "    .dataframe tbody tr th {\n",
       "        vertical-align: top;\n",
       "    }\n",
       "\n",
       "    .dataframe thead th {\n",
       "        text-align: right;\n",
       "    }\n",
       "</style>\n",
       "<table border=\"1\" class=\"dataframe\">\n",
       "  <thead>\n",
       "    <tr style=\"text-align: right;\">\n",
       "      <th></th>\n",
       "      <th>claim</th>\n",
       "      <th>review</th>\n",
       "      <th>diff</th>\n",
       "      <th>lang</th>\n",
       "      <th>label</th>\n",
       "    </tr>\n",
       "  </thead>\n",
       "  <tbody>\n",
       "    <tr>\n",
       "      <th>0</th>\n",
       "      <td>The function call to 'unbound_dimensions' has ...</td>\n",
       "      <td>The change seems fine, but it would be helpful...</td>\n",
       "      <td>@@ -204,7 +204,7 @@ class Renderer(Exporter):\\...</td>\n",
       "      <td>py</td>\n",
       "      <td>1</td>\n",
       "    </tr>\n",
       "    <tr>\n",
       "      <th>1</th>\n",
       "      <td>Now, an additional argument 'False' has been a...</td>\n",
       "      <td>The change seems fine, but it would be helpful...</td>\n",
       "      <td>@@ -204,7 +204,7 @@ class Renderer(Exporter):\\...</td>\n",
       "      <td>py</td>\n",
       "      <td>1</td>\n",
       "    </tr>\n",
       "    <tr>\n",
       "      <th>2</th>\n",
       "      <td>The function call to 'unbound_dimensions' has ...</td>\n",
       "      <td>The unbound_dimensions function is not defined...</td>\n",
       "      <td>@@ -204,7 +204,7 @@ class Renderer(Exporter):\\...</td>\n",
       "      <td>py</td>\n",
       "      <td>1</td>\n",
       "    </tr>\n",
       "    <tr>\n",
       "      <th>3</th>\n",
       "      <td>Now, an additional argument 'False' has been a...</td>\n",
       "      <td>I don't think you need `False` here.</td>\n",
       "      <td>@@ -204,7 +204,7 @@ class Renderer(Exporter):\\...</td>\n",
       "      <td>py</td>\n",
       "      <td>1</td>\n",
       "    </tr>\n",
       "    <tr>\n",
       "      <th>4</th>\n",
       "      <td>The function call to 'unbound_dimensions' has ...</td>\n",
       "      <td>The unbound_dimensions function should be call...</td>\n",
       "      <td>@@ -204,7 +204,7 @@ class Renderer(Exporter):\\...</td>\n",
       "      <td>py</td>\n",
       "      <td>1</td>\n",
       "    </tr>\n",
       "  </tbody>\n",
       "</table>\n",
       "</div>"
      ],
      "text/plain": [
       "                                               claim  \\\n",
       "0  The function call to 'unbound_dimensions' has ...   \n",
       "1  Now, an additional argument 'False' has been a...   \n",
       "2  The function call to 'unbound_dimensions' has ...   \n",
       "3  Now, an additional argument 'False' has been a...   \n",
       "4  The function call to 'unbound_dimensions' has ...   \n",
       "\n",
       "                                              review  \\\n",
       "0  The change seems fine, but it would be helpful...   \n",
       "1  The change seems fine, but it would be helpful...   \n",
       "2  The unbound_dimensions function is not defined...   \n",
       "3               I don't think you need `False` here.   \n",
       "4  The unbound_dimensions function should be call...   \n",
       "\n",
       "                                                diff lang  label  \n",
       "0  @@ -204,7 +204,7 @@ class Renderer(Exporter):\\...   py      1  \n",
       "1  @@ -204,7 +204,7 @@ class Renderer(Exporter):\\...   py      1  \n",
       "2  @@ -204,7 +204,7 @@ class Renderer(Exporter):\\...   py      1  \n",
       "3  @@ -204,7 +204,7 @@ class Renderer(Exporter):\\...   py      1  \n",
       "4  @@ -204,7 +204,7 @@ class Renderer(Exporter):\\...   py      1  "
      ]
     },
     "execution_count": 17,
     "metadata": {},
     "output_type": "execute_result"
    }
   ],
   "source": [
    "df = pd.read_csv(\"/home/mkapadni/work/crscore_plus_plus/claims_addressed_human_annotations.csv\")\n",
    "df.head()"
   ]
  },
  {
   "cell_type": "code",
   "execution_count": 18,
   "metadata": {},
   "outputs": [
    {
     "data": {
      "text/plain": [
       "array(['py', 'java', 'js'], dtype=object)"
      ]
     },
     "execution_count": 18,
     "metadata": {},
     "output_type": "execute_result"
    }
   ],
   "source": [
    "df['lang'].unique()"
   ]
  },
  {
   "cell_type": "code",
   "execution_count": 24,
   "metadata": {},
   "outputs": [
    {
     "name": "stdout",
     "output_type": "stream",
     "text": [
      "class Renderer(Exporter):\n",
      "    def method(self):\n",
      "             if (((len(plot) == 1 and not plot.dynamic)\n",
      "                 or (len(plot) > 1 and self.holomap is None) or\n",
      "                 (plot.dynamic and len(plot.keys[0]) == 0)) or\n",
      "                not unbound_dimensions(plot.streams, plot.dimensions, False)):\n",
      "                 fmt = fig_formats[0] if self.fig=='auto' else self.fig\n",
      "             else:\n",
      "                 fmt = holomap_formats[0] if self.holomap=='auto' else self.holomap\n",
      "CompletedProcess(args=['ruff', 'check', '/tmp/tmp96eo15od/code_to_check.py', '--format=json', '--select=E,F,B,I,C,N,UP,YTT,S'], returncode=2, stdout='', stderr=\"\\x1b[1m\\x1b[31merror:\\x1b[0m unexpected argument '\\x1b[33m--format\\x1b[0m' found\\n\\n  \\x1b[32mtip:\\x1b[0m to pass '\\x1b[33m--format\\x1b[0m' as a value, use '\\x1b[32m-- --format\\x1b[0m'\\n\\n\\x1b[1m\\x1b[4mUsage:\\x1b[0m \\x1b[1mruff check\\x1b[0m <FILES|--fix|--no-fix|--unsafe-fixes|--no-unsafe-fixes|--show-fixes|--no-show-fixes|--diff|--watch|--fix-only|--no-fix-only|--ignore-noqa|--output-format <OUTPUT_FORMAT>|--output-file <OUTPUT_FILE>|--target-version <TARGET_VERSION>|--preview|--no-preview|--select <RULE_CODE>|--ignore <RULE_CODE>|--extend-select <RULE_CODE>|--extend-ignore <RULE_CODE>|--per-file-ignores <PER_FILE_IGNORES>|--extend-per-file-ignores <EXTEND_PER_FILE_IGNORES>|--exclude <FILE_PATTERN>|--extend-exclude <FILE_PATTERN>|--fixable <RULE_CODE>|--unfixable <RULE_CODE>|--extend-fixable <RULE_CODE>|--extend-unfixable <RULE_CODE>|--respect-gitignore|--no-respect-gitignore|--force-exclude|--no-force-exclude|--line-length <LINE_LENGTH>|--dummy-variable-rgx <DUMMY_VARIABLE_RGX>|--no-cache|--cache-dir <CACHE_DIR>|--stdin-filename <STDIN_FILENAME>|--extension <EXTENSION>|--exit-zero|--exit-non-zero-on-fix|--statistics|--add-noqa|--show-files|--show-settings>\\n\\nFor more information, try '\\x1b[1m--help\\x1b[0m'.\\n\")\n"
     ]
    }
   ],
   "source": [
    "\n",
    "\n",
    "def extract_modified_code(diff_text):\n",
    "    # Extract only the modified code (lines starting with '+')\n",
    "    modified_lines = []\n",
    "    in_code_block = False\n",
    "    \n",
    "    for line in diff_text.splitlines():\n",
    "        if line.startswith('@@'):\n",
    "            in_code_block = True\n",
    "            continue\n",
    "        if in_code_block and not line.startswith('-'):\n",
    "            # Remove '+' if present, otherwise keep the context lines\n",
    "            clean_line = line[1:] if line.startswith('+') else line\n",
    "            modified_lines.append(clean_line)\n",
    "    \n",
    "    return '\\n'.join(modified_lines)\n",
    "\n",
    "def lint_code_changes(diff_text: str) -> str:\n",
    "    # First extract the complete code block with context\n",
    "    modified_code = extract_modified_code(diff_text)\n",
    "    \n",
    "    with tempfile.TemporaryDirectory() as tmp_dir:\n",
    "        temp_file = Path(tmp_dir) / \"code_to_check.py\"\n",
    "        # Add class definition to make the code valid Python\n",
    "        full_code = \"class Renderer(Exporter):\\n    def method(self):\\n\" + modified_code\n",
    "        temp_file.write_text(full_code)\n",
    "        print(full_code)\n",
    "        try:\n",
    "            result = subprocess.run(\n",
    "                [\n",
    "                    \"ruff\", \n",
    "                    \"check\", \n",
    "                    str(temp_file),\n",
    "                    \"--format=json\",\n",
    "                    \"--select=E,F,B,I,C,N,UP,YTT,S\",\n",
    "                ],\n",
    "                capture_output=True,\n",
    "                text=True\n",
    "            )\n",
    "            print(result)\n",
    "\n",
    "            return result\n",
    "        except subprocess.CalledProcessError as e:\n",
    "            return f\"Error running Ruff: {e.stderr}\"\n",
    "\n",
    "# Usage\n",
    "diff_text = df['diff'][1]\n",
    "results = lint_code_changes(diff_text)\n"
   ]
  },
  {
   "cell_type": "code",
   "execution_count": 28,
   "metadata": {},
   "outputs": [
    {
     "name": "stdout",
     "output_type": "stream",
     "text": [
      "\u001b[1m\u001b[31merror:\u001b[0m unexpected argument '\u001b[33m--format\u001b[0m' found\n",
      "\n",
      "  \u001b[32mtip:\u001b[0m to pass '\u001b[33m--format\u001b[0m' as a value, use '\u001b[32m-- --format\u001b[0m'\n",
      "\n",
      "\u001b[1m\u001b[4mUsage:\u001b[0m \u001b[1mruff check\u001b[0m <FILES|--fix|--no-fix|--unsafe-fixes|--no-unsafe-fixes|--show-fixes|--no-show-fixes|--diff|--watch|--fix-only|--no-fix-only|--ignore-noqa|--output-format <OUTPUT_FORMAT>|--output-file <OUTPUT_FILE>|--target-version <TARGET_VERSION>|--preview|--no-preview|--select <RULE_CODE>|--ignore <RULE_CODE>|--extend-select <RULE_CODE>|--extend-ignore <RULE_CODE>|--per-file-ignores <PER_FILE_IGNORES>|--extend-per-file-ignores <EXTEND_PER_FILE_IGNORES>|--exclude <FILE_PATTERN>|--extend-exclude <FILE_PATTERN>|--fixable <RULE_CODE>|--unfixable <RULE_CODE>|--extend-fixable <RULE_CODE>|--extend-unfixable <RULE_CODE>|--respect-gitignore|--no-respect-gitignore|--force-exclude|--no-force-exclude|--line-length <LINE_LENGTH>|--dummy-variable-rgx <DUMMY_VARIABLE_RGX>|--no-cache|--cache-dir <CACHE_DIR>|--stdin-filename <STDIN_FILENAME>|--extension <EXTENSION>|--exit-zero|--exit-non-zero-on-fix|--statistics|--add-noqa|--show-files|--show-settings>\n",
      "\n",
      "For more information, try '\u001b[1m--help\u001b[0m'.\n",
      "\n"
     ]
    }
   ],
   "source": [
    "print(results.stderr)"
   ]
  },
  {
   "cell_type": "code",
   "execution_count": 29,
   "metadata": {},
   "outputs": [
    {
     "name": "stdout",
     "output_type": "stream",
     "text": [
      "\n"
     ]
    }
   ],
   "source": [
    "print(results.stdout)"
   ]
  },
  {
   "cell_type": "code",
   "execution_count": 15,
   "metadata": {},
   "outputs": [
    {
     "name": "stdout",
     "output_type": "stream",
     "text": [
      "Ruff Review Results:\n",
      "\n"
     ]
    }
   ],
   "source": [
    "review_comments = lint_code_changes(df['diff'][1])\n",
    "print(\"Ruff Review Results:\")\n",
    "print(review_comments)"
   ]
  },
  {
   "cell_type": "code",
   "execution_count": null,
   "metadata": {},
   "outputs": [],
   "source": []
  },
  {
   "cell_type": "code",
   "execution_count": 2,
   "metadata": {},
   "outputs": [
    {
     "data": {
      "text/html": [
       "<div>\n",
       "<style scoped>\n",
       "    .dataframe tbody tr th:only-of-type {\n",
       "        vertical-align: middle;\n",
       "    }\n",
       "\n",
       "    .dataframe tbody tr th {\n",
       "        vertical-align: top;\n",
       "    }\n",
       "\n",
       "    .dataframe thead th {\n",
       "        text-align: right;\n",
       "    }\n",
       "</style>\n",
       "<table border=\"1\" class=\"dataframe\">\n",
       "  <thead>\n",
       "    <tr style=\"text-align: right;\">\n",
       "      <th></th>\n",
       "      <th>oldf</th>\n",
       "      <th>patch</th>\n",
       "      <th>msg</th>\n",
       "      <th>id</th>\n",
       "      <th>y</th>\n",
       "      <th>raw_python_score</th>\n",
       "      <th>int_python_score</th>\n",
       "    </tr>\n",
       "  </thead>\n",
       "  <tbody>\n",
       "    <tr>\n",
       "      <th>0</th>\n",
       "      <td>//    |  /           |\\n//    ' /   __| _` | _...</td>\n",
       "      <td>@@ -595,8 +595,10 @@ namespace Kratos\\n       ...</td>\n",
       "      <td>I assumed that for CrossProduct the values wer...</td>\n",
       "      <td>90017</td>\n",
       "      <td>1</td>\n",
       "      <td>1.924489</td>\n",
       "      <td>2</td>\n",
       "    </tr>\n",
       "    <tr>\n",
       "      <th>1</th>\n",
       "      <td>#\\n# Licensed to the Apache Software Foundatio...</td>\n",
       "      <td>@@ -22,8 +22,13 @@\\n For internal use only; no...</td>\n",
       "      <td>I think we should we avoid `import six` for co...</td>\n",
       "      <td>144914</td>\n",
       "      <td>1</td>\n",
       "      <td>1.455082</td>\n",
       "      <td>1</td>\n",
       "    </tr>\n",
       "    <tr>\n",
       "      <th>2</th>\n",
       "      <td># frozen_string_literal: true\\n\\nrequire 'view...</td>\n",
       "      <td>@@ -25,13 +25,16 @@ module View\\n       def sh...</td>\n",
       "      <td>we call cities + towns . size a lot, maybe mak...</td>\n",
       "      <td>12959</td>\n",
       "      <td>1</td>\n",
       "      <td>2.106942</td>\n",
       "      <td>2</td>\n",
       "    </tr>\n",
       "    <tr>\n",
       "      <th>3</th>\n",
       "      <td>/*\\n * (C) Copyright 2016-2021 Intel Corporati...</td>\n",
       "      <td>@@ -947,6 +947,7 @@ out:\\n \\t\\tD_ERROR(\"pool \"...</td>\n",
       "      <td>This will be removed.</td>\n",
       "      <td>171235</td>\n",
       "      <td>1</td>\n",
       "      <td>1.315966</td>\n",
       "      <td>1</td>\n",
       "    </tr>\n",
       "    <tr>\n",
       "      <th>4</th>\n",
       "      <td>// Licensed to Elasticsearch B.V. under one or...</td>\n",
       "      <td>@@ -160,6 +160,11 @@ func (r *routeBuilder) pr...</td>\n",
       "      <td>nit: `firehoseLogHandler` vs. `firehoseMiddlew...</td>\n",
       "      <td>32732</td>\n",
       "      <td>1</td>\n",
       "      <td>1.084271</td>\n",
       "      <td>1</td>\n",
       "    </tr>\n",
       "  </tbody>\n",
       "</table>\n",
       "</div>"
      ],
      "text/plain": [
       "                                                oldf  \\\n",
       "0  //    |  /           |\\n//    ' /   __| _` | _...   \n",
       "1  #\\n# Licensed to the Apache Software Foundatio...   \n",
       "2  # frozen_string_literal: true\\n\\nrequire 'view...   \n",
       "3  /*\\n * (C) Copyright 2016-2021 Intel Corporati...   \n",
       "4  // Licensed to Elasticsearch B.V. under one or...   \n",
       "\n",
       "                                               patch  \\\n",
       "0  @@ -595,8 +595,10 @@ namespace Kratos\\n       ...   \n",
       "1  @@ -22,8 +22,13 @@\\n For internal use only; no...   \n",
       "2  @@ -25,13 +25,16 @@ module View\\n       def sh...   \n",
       "3  @@ -947,6 +947,7 @@ out:\\n \\t\\tD_ERROR(\"pool \"...   \n",
       "4  @@ -160,6 +160,11 @@ func (r *routeBuilder) pr...   \n",
       "\n",
       "                                                 msg      id  y  \\\n",
       "0  I assumed that for CrossProduct the values wer...   90017  1   \n",
       "1  I think we should we avoid `import six` for co...  144914  1   \n",
       "2  we call cities + towns . size a lot, maybe mak...   12959  1   \n",
       "3                              This will be removed.  171235  1   \n",
       "4  nit: `firehoseLogHandler` vs. `firehoseMiddlew...   32732  1   \n",
       "\n",
       "   raw_python_score  int_python_score  \n",
       "0          1.924489                 2  \n",
       "1          1.455082                 1  \n",
       "2          2.106942                 2  \n",
       "3          1.315966                 1  \n",
       "4          1.084271                 1  "
      ]
     },
     "execution_count": 2,
     "metadata": {},
     "output_type": "execute_result"
    }
   ],
   "source": [
    "df = pd.read_json(\"/home/mkapadni/work/crscore_plus_plus/Comment_Generation/msg-train_python_classified_temp.jsonl\", lines=True)\n",
    "df.head()"
   ]
  },
  {
   "cell_type": "code",
   "execution_count": 3,
   "metadata": {},
   "outputs": [
    {
     "data": {
      "text/plain": [
       "(100, 7)"
      ]
     },
     "execution_count": 3,
     "metadata": {},
     "output_type": "execute_result"
    }
   ],
   "source": [
    "df.shape"
   ]
  },
  {
   "cell_type": "code",
   "execution_count": 14,
   "metadata": {},
   "outputs": [
    {
     "data": {
      "text/html": [
       "<div>\n",
       "<style scoped>\n",
       "    .dataframe tbody tr th:only-of-type {\n",
       "        vertical-align: middle;\n",
       "    }\n",
       "\n",
       "    .dataframe tbody tr th {\n",
       "        vertical-align: top;\n",
       "    }\n",
       "\n",
       "    .dataframe thead th {\n",
       "        text-align: right;\n",
       "    }\n",
       "</style>\n",
       "<table border=\"1\" class=\"dataframe\">\n",
       "  <thead>\n",
       "    <tr style=\"text-align: right;\">\n",
       "      <th></th>\n",
       "      <th>patch</th>\n",
       "      <th>y</th>\n",
       "      <th>oldf</th>\n",
       "      <th>idx</th>\n",
       "      <th>id</th>\n",
       "      <th>msg</th>\n",
       "      <th>proj</th>\n",
       "      <th>lang</th>\n",
       "    </tr>\n",
       "  </thead>\n",
       "  <tbody>\n",
       "    <tr>\n",
       "      <th>0</th>\n",
       "      <td>@@ -231,4 +231,8 @@ def setup_app(app):\\n     ...</td>\n",
       "      <td>1</td>\n",
       "      <td># -*- coding: utf-8 -*-\\n#\\n# This file is par...</td>\n",
       "      <td>1</td>\n",
       "      <td>16014</td>\n",
       "      <td>Should we call it `is_list`?</td>\n",
       "      <td>inveniosoftware-invenio</td>\n",
       "      <td>py</td>\n",
       "    </tr>\n",
       "    <tr>\n",
       "      <th>1</th>\n",
       "      <td>@@ -44,7 +44,7 @@ namespace OpenTelemetry.Trac...</td>\n",
       "      <td>1</td>\n",
       "      <td>// &lt;copyright file=\"TracerProviderBuilderExten...</td>\n",
       "      <td>1</td>\n",
       "      <td>18299</td>\n",
       "      <td>in the instrumentation example, should we use ...</td>\n",
       "      <td>open-telemetry-opentelemetry-dotnet</td>\n",
       "      <td>.cs</td>\n",
       "    </tr>\n",
       "    <tr>\n",
       "      <th>2</th>\n",
       "      <td>@@ -25,7 +25,7 @@ from scapy.modules.six.moves...</td>\n",
       "      <td>1</td>\n",
       "      <td>## This file is part of Scapy\\n## See http://w...</td>\n",
       "      <td>1</td>\n",
       "      <td>12313</td>\n",
       "      <td>Why this change ? Is it useful ?</td>\n",
       "      <td>secdev-scapy</td>\n",
       "      <td>py</td>\n",
       "    </tr>\n",
       "    <tr>\n",
       "      <th>3</th>\n",
       "      <td>@@ -0,0 +1,4 @@\\n+const titleNode = virtualNod...</td>\n",
       "      <td>1</td>\n",
       "      <td></td>\n",
       "      <td>1</td>\n",
       "      <td>15216</td>\n",
       "      <td>I know this is a nitpick, but don't we always ...</td>\n",
       "      <td>dequelabs-axe-core</td>\n",
       "      <td>js</td>\n",
       "    </tr>\n",
       "    <tr>\n",
       "      <th>4</th>\n",
       "      <td>@@ -37,6 +37,11 @@ public class EMailValidator...</td>\n",
       "      <td>1</td>\n",
       "      <td>package edu.harvard.iq.dataverse;\\n\\nimport st...</td>\n",
       "      <td>1</td>\n",
       "      <td>37751</td>\n",
       "      <td>We should reformat this emails in the test to ...</td>\n",
       "      <td>IQSS-dataverse</td>\n",
       "      <td>java</td>\n",
       "    </tr>\n",
       "  </tbody>\n",
       "</table>\n",
       "</div>"
      ],
      "text/plain": [
       "                                               patch  y  \\\n",
       "0  @@ -231,4 +231,8 @@ def setup_app(app):\\n     ...  1   \n",
       "1  @@ -44,7 +44,7 @@ namespace OpenTelemetry.Trac...  1   \n",
       "2  @@ -25,7 +25,7 @@ from scapy.modules.six.moves...  1   \n",
       "3  @@ -0,0 +1,4 @@\\n+const titleNode = virtualNod...  1   \n",
       "4  @@ -37,6 +37,11 @@ public class EMailValidator...  1   \n",
       "\n",
       "                                                oldf  idx     id  \\\n",
       "0  # -*- coding: utf-8 -*-\\n#\\n# This file is par...    1  16014   \n",
       "1  // <copyright file=\"TracerProviderBuilderExten...    1  18299   \n",
       "2  ## This file is part of Scapy\\n## See http://w...    1  12313   \n",
       "3                                                       1  15216   \n",
       "4  package edu.harvard.iq.dataverse;\\n\\nimport st...    1  37751   \n",
       "\n",
       "                                                 msg  \\\n",
       "0                       Should we call it `is_list`?   \n",
       "1  in the instrumentation example, should we use ...   \n",
       "2                   Why this change ? Is it useful ?   \n",
       "3  I know this is a nitpick, but don't we always ...   \n",
       "4  We should reformat this emails in the test to ...   \n",
       "\n",
       "                                  proj  lang  \n",
       "0              inveniosoftware-invenio    py  \n",
       "1  open-telemetry-opentelemetry-dotnet   .cs  \n",
       "2                         secdev-scapy    py  \n",
       "3                   dequelabs-axe-core    js  \n",
       "4                       IQSS-dataverse  java  "
      ]
     },
     "execution_count": 14,
     "metadata": {},
     "output_type": "execute_result"
    }
   ],
   "source": [
    "df_val = pd.read_json(\"/home/mkapadni/work/crscore_plus_plus/Comment_Generation/msg-valid.jsonl\", lines=True)\n",
    "df_val.head()"
   ]
  },
  {
   "cell_type": "code",
   "execution_count": 15,
   "metadata": {},
   "outputs": [
    {
     "data": {
      "text/plain": [
       "Index(['patch', 'y', 'oldf', 'idx', 'id', 'msg', 'proj', 'lang'], dtype='object')"
      ]
     },
     "execution_count": 15,
     "metadata": {},
     "output_type": "execute_result"
    }
   ],
   "source": [
    "df_val.columns"
   ]
  },
  {
   "cell_type": "code",
   "execution_count": 33,
   "metadata": {},
   "outputs": [
    {
     "data": {
      "text/plain": [
       "array(['py', '.cs', 'js', 'java', 'rb', 'php', 'go', 'c', 'cpp'],\n",
       "      dtype=object)"
      ]
     },
     "execution_count": 33,
     "metadata": {},
     "output_type": "execute_result"
    }
   ],
   "source": [
    "df_val['lang'].unique()"
   ]
  },
  {
   "cell_type": "markdown",
   "metadata": {},
   "source": [
    "# concatenating all dfs"
   ]
  },
  {
   "cell_type": "code",
   "execution_count": 53,
   "metadata": {},
   "outputs": [
    {
     "data": {
      "text/html": [
       "<div>\n",
       "<style scoped>\n",
       "    .dataframe tbody tr th:only-of-type {\n",
       "        vertical-align: middle;\n",
       "    }\n",
       "\n",
       "    .dataframe tbody tr th {\n",
       "        vertical-align: top;\n",
       "    }\n",
       "\n",
       "    .dataframe thead th {\n",
       "        text-align: right;\n",
       "    }\n",
       "</style>\n",
       "<table border=\"1\" class=\"dataframe\">\n",
       "  <thead>\n",
       "    <tr style=\"text-align: right;\">\n",
       "      <th></th>\n",
       "      <th>oldf</th>\n",
       "      <th>patch</th>\n",
       "      <th>msg</th>\n",
       "      <th>id</th>\n",
       "      <th>y</th>\n",
       "      <th>raw_score</th>\n",
       "      <th>int_score</th>\n",
       "      <th>lang</th>\n",
       "      <th>is_valid_syntax</th>\n",
       "    </tr>\n",
       "  </thead>\n",
       "  <tbody>\n",
       "    <tr>\n",
       "      <th>0</th>\n",
       "      <td></td>\n",
       "      <td>@@ -0,0 +1,18 @@\\n+package com.baeldung.lcm;\\n...</td>\n",
       "      <td>Observation: absNumber1 and absNumber2 do not ...</td>\n",
       "      <td>82345</td>\n",
       "      <td>1</td>\n",
       "      <td>2.549807</td>\n",
       "      <td>3</td>\n",
       "      <td>c</td>\n",
       "      <td>NaN</td>\n",
       "    </tr>\n",
       "    <tr>\n",
       "      <th>1</th>\n",
       "      <td>/**\\n * @author omkarlanghe\\n * Given an array...</td>\n",
       "      <td>@@ -31,12 +31,13 @@\\n  * @source: https://prac...</td>\n",
       "      <td>As you have added &lt;bits/stdc++.h&gt; you don't ne...</td>\n",
       "      <td>25195</td>\n",
       "      <td>1</td>\n",
       "      <td>2.696151</td>\n",
       "      <td>3</td>\n",
       "      <td>c</td>\n",
       "      <td>NaN</td>\n",
       "    </tr>\n",
       "    <tr>\n",
       "      <th>2</th>\n",
       "      <td>\"\"\"\\nVarious utilities that don't fit anwhere ...</td>\n",
       "      <td>@@ -49,6 +49,8 @@ def sanitize(x: Any) -&gt; Any:...</td>\n",
       "      <td>Would `elif x is None` work?</td>\n",
       "      <td>28616</td>\n",
       "      <td>1</td>\n",
       "      <td>2.557044</td>\n",
       "      <td>3</td>\n",
       "      <td>go</td>\n",
       "      <td>NaN</td>\n",
       "    </tr>\n",
       "    <tr>\n",
       "      <th>3</th>\n",
       "      <td>// Copyright 2016 VMware, Inc. All Rights Rese...</td>\n",
       "      <td>@@ -57,15 +57,8 @@ func NewBackoffConfig() *Ba...</td>\n",
       "      <td>Thanks for this change :) I should have made t...</td>\n",
       "      <td>36092</td>\n",
       "      <td>1</td>\n",
       "      <td>2.510409</td>\n",
       "      <td>3</td>\n",
       "      <td>go</td>\n",
       "      <td>NaN</td>\n",
       "    </tr>\n",
       "    <tr>\n",
       "      <th>4</th>\n",
       "      <td>package main\\n\\nimport (\\n\\t\"fmt\"\\n\\t\"net\"\\n\\t...</td>\n",
       "      <td>@@ -747,10 +747,16 @@ func logGRPCServerSetup(...</td>\n",
       "      <td>So this means that if multiple things error th...</td>\n",
       "      <td>42369</td>\n",
       "      <td>1</td>\n",
       "      <td>2.581007</td>\n",
       "      <td>3</td>\n",
       "      <td>go</td>\n",
       "      <td>NaN</td>\n",
       "    </tr>\n",
       "  </tbody>\n",
       "</table>\n",
       "</div>"
      ],
      "text/plain": [
       "                                                oldf  \\\n",
       "0                                                      \n",
       "1  /**\\n * @author omkarlanghe\\n * Given an array...   \n",
       "2  \"\"\"\\nVarious utilities that don't fit anwhere ...   \n",
       "3  // Copyright 2016 VMware, Inc. All Rights Rese...   \n",
       "4  package main\\n\\nimport (\\n\\t\"fmt\"\\n\\t\"net\"\\n\\t...   \n",
       "\n",
       "                                               patch  \\\n",
       "0  @@ -0,0 +1,18 @@\\n+package com.baeldung.lcm;\\n...   \n",
       "1  @@ -31,12 +31,13 @@\\n  * @source: https://prac...   \n",
       "2  @@ -49,6 +49,8 @@ def sanitize(x: Any) -> Any:...   \n",
       "3  @@ -57,15 +57,8 @@ func NewBackoffConfig() *Ba...   \n",
       "4  @@ -747,10 +747,16 @@ func logGRPCServerSetup(...   \n",
       "\n",
       "                                                 msg     id  y  raw_score  \\\n",
       "0  Observation: absNumber1 and absNumber2 do not ...  82345  1   2.549807   \n",
       "1  As you have added <bits/stdc++.h> you don't ne...  25195  1   2.696151   \n",
       "2                       Would `elif x is None` work?  28616  1   2.557044   \n",
       "3  Thanks for this change :) I should have made t...  36092  1   2.510409   \n",
       "4  So this means that if multiple things error th...  42369  1   2.581007   \n",
       "\n",
       "   int_score lang  is_valid_syntax  \n",
       "0          3    c              NaN  \n",
       "1          3    c              NaN  \n",
       "2          3   go              NaN  \n",
       "3          3   go              NaN  \n",
       "4          3   go              NaN  "
      ]
     },
     "execution_count": 53,
     "metadata": {},
     "output_type": "execute_result"
    }
   ],
   "source": [
    "df = pd.read_json(\"/home/mkapadni/work/crscore_plus_plus/Comment_Generation/msg-train_all_classified.json\")\n",
    "df.head()"
   ]
  },
  {
   "cell_type": "code",
   "execution_count": 54,
   "metadata": {},
   "outputs": [
    {
     "data": {
      "text/plain": [
       "lang\n",
       "java      32756\n",
       "python    25416\n",
       "js         4291\n",
       "php        1720\n",
       "cpp         260\n",
       "ruby        108\n",
       "go           26\n",
       "c             2\n",
       "Name: count, dtype: int64"
      ]
     },
     "execution_count": 54,
     "metadata": {},
     "output_type": "execute_result"
    }
   ],
   "source": [
    "df['lang'].value_counts()"
   ]
  },
  {
   "cell_type": "code",
   "execution_count": 55,
   "metadata": {},
   "outputs": [
    {
     "data": {
      "text/plain": [
       "(56031, 9)"
      ]
     },
     "execution_count": 55,
     "metadata": {},
     "output_type": "execute_result"
    }
   ],
   "source": [
    "df_deduplicated = df.drop_duplicates(subset=['oldf', 'patch', 'msg'], keep='first')\n",
    "df_deduplicated.shape"
   ]
  },
  {
   "cell_type": "code",
   "execution_count": 57,
   "metadata": {},
   "outputs": [
    {
     "data": {
      "text/plain": [
       "lang\n",
       "java      30797\n",
       "python    20888\n",
       "js         2542\n",
       "php        1641\n",
       "cpp         114\n",
       "ruby         25\n",
       "go           22\n",
       "c             2\n",
       "Name: count, dtype: int64"
      ]
     },
     "execution_count": 57,
     "metadata": {},
     "output_type": "execute_result"
    }
   ],
   "source": [
    "df_deduplicated['lang'].value_counts()"
   ]
  },
  {
   "cell_type": "code",
   "execution_count": 61,
   "metadata": {},
   "outputs": [
    {
     "data": {
      "text/plain": [
       "(109274, 5)"
      ]
     },
     "execution_count": 61,
     "metadata": {},
     "output_type": "execute_result"
    }
   ],
   "source": [
    "df_train = pd.read_json(\"/home/mkapadni/work/crscore_plus_plus/Comment_Generation/msg-train.jsonl\", lines=True)\n",
    "df_train_deduplicated = df_train.drop_duplicates(subset=['oldf', 'patch', 'msg'], keep='first')\n",
    "df_train_deduplicated.shape"
   ]
  },
  {
   "cell_type": "code",
   "execution_count": 63,
   "metadata": {},
   "outputs": [
    {
     "name": "stderr",
     "output_type": "stream",
     "text": [
      "/tmp/ipykernel_1820976/80913064.py:1: SettingWithCopyWarning: \n",
      "A value is trying to be set on a copy of a slice from a DataFrame.\n",
      "Try using .loc[row_indexer,col_indexer] = value instead\n",
      "\n",
      "See the caveats in the documentation: https://pandas.pydata.org/pandas-docs/stable/user_guide/indexing.html#returning-a-view-versus-a-copy\n",
      "  df_train_deduplicated['lang'] = 'unk'\n"
     ]
    }
   ],
   "source": [
    "df_train_deduplicated['lang'] = 'unk'"
   ]
  },
  {
   "cell_type": "code",
   "execution_count": 64,
   "metadata": {},
   "outputs": [
    {
     "data": {
      "text/html": [
       "<div>\n",
       "<style scoped>\n",
       "    .dataframe tbody tr th:only-of-type {\n",
       "        vertical-align: middle;\n",
       "    }\n",
       "\n",
       "    .dataframe tbody tr th {\n",
       "        vertical-align: top;\n",
       "    }\n",
       "\n",
       "    .dataframe thead th {\n",
       "        text-align: right;\n",
       "    }\n",
       "</style>\n",
       "<table border=\"1\" class=\"dataframe\">\n",
       "  <thead>\n",
       "    <tr style=\"text-align: right;\">\n",
       "      <th></th>\n",
       "      <th>oldf</th>\n",
       "      <th>patch</th>\n",
       "      <th>msg</th>\n",
       "      <th>id</th>\n",
       "      <th>y</th>\n",
       "      <th>lang</th>\n",
       "    </tr>\n",
       "  </thead>\n",
       "  <tbody>\n",
       "    <tr>\n",
       "      <th>0</th>\n",
       "      <td>//    |  /           |\\n//    ' /   __| _` | _...</td>\n",
       "      <td>@@ -595,8 +595,10 @@ namespace Kratos\\n       ...</td>\n",
       "      <td>I assumed that for CrossProduct the values wer...</td>\n",
       "      <td>90017</td>\n",
       "      <td>1</td>\n",
       "      <td>unk</td>\n",
       "    </tr>\n",
       "    <tr>\n",
       "      <th>1</th>\n",
       "      <td>#\\n# Licensed to the Apache Software Foundatio...</td>\n",
       "      <td>@@ -22,8 +22,13 @@\\n For internal use only; no...</td>\n",
       "      <td>I think we should we avoid `import six` for co...</td>\n",
       "      <td>144914</td>\n",
       "      <td>1</td>\n",
       "      <td>unk</td>\n",
       "    </tr>\n",
       "    <tr>\n",
       "      <th>2</th>\n",
       "      <td># frozen_string_literal: true\\n\\nrequire 'view...</td>\n",
       "      <td>@@ -25,13 +25,16 @@ module View\\n       def sh...</td>\n",
       "      <td>we call cities + towns . size a lot, maybe mak...</td>\n",
       "      <td>12959</td>\n",
       "      <td>1</td>\n",
       "      <td>unk</td>\n",
       "    </tr>\n",
       "    <tr>\n",
       "      <th>3</th>\n",
       "      <td>/*\\n * (C) Copyright 2016-2021 Intel Corporati...</td>\n",
       "      <td>@@ -947,6 +947,7 @@ out:\\n \\t\\tD_ERROR(\"pool \"...</td>\n",
       "      <td>This will be removed.</td>\n",
       "      <td>171235</td>\n",
       "      <td>1</td>\n",
       "      <td>unk</td>\n",
       "    </tr>\n",
       "    <tr>\n",
       "      <th>4</th>\n",
       "      <td>// Licensed to Elasticsearch B.V. under one or...</td>\n",
       "      <td>@@ -160,6 +160,11 @@ func (r *routeBuilder) pr...</td>\n",
       "      <td>nit: `firehoseLogHandler` vs. `firehoseMiddlew...</td>\n",
       "      <td>32732</td>\n",
       "      <td>1</td>\n",
       "      <td>unk</td>\n",
       "    </tr>\n",
       "  </tbody>\n",
       "</table>\n",
       "</div>"
      ],
      "text/plain": [
       "                                                oldf  \\\n",
       "0  //    |  /           |\\n//    ' /   __| _` | _...   \n",
       "1  #\\n# Licensed to the Apache Software Foundatio...   \n",
       "2  # frozen_string_literal: true\\n\\nrequire 'view...   \n",
       "3  /*\\n * (C) Copyright 2016-2021 Intel Corporati...   \n",
       "4  // Licensed to Elasticsearch B.V. under one or...   \n",
       "\n",
       "                                               patch  \\\n",
       "0  @@ -595,8 +595,10 @@ namespace Kratos\\n       ...   \n",
       "1  @@ -22,8 +22,13 @@\\n For internal use only; no...   \n",
       "2  @@ -25,13 +25,16 @@ module View\\n       def sh...   \n",
       "3  @@ -947,6 +947,7 @@ out:\\n \\t\\tD_ERROR(\"pool \"...   \n",
       "4  @@ -160,6 +160,11 @@ func (r *routeBuilder) pr...   \n",
       "\n",
       "                                                 msg      id  y lang  \n",
       "0  I assumed that for CrossProduct the values wer...   90017  1  unk  \n",
       "1  I think we should we avoid `import six` for co...  144914  1  unk  \n",
       "2  we call cities + towns . size a lot, maybe mak...   12959  1  unk  \n",
       "3                              This will be removed.  171235  1  unk  \n",
       "4  nit: `firehoseLogHandler` vs. `firehoseMiddlew...   32732  1  unk  "
      ]
     },
     "execution_count": 64,
     "metadata": {},
     "output_type": "execute_result"
    }
   ],
   "source": [
    "df_train_deduplicated.head()"
   ]
  },
  {
   "cell_type": "code",
   "execution_count": 65,
   "metadata": {},
   "outputs": [
    {
     "data": {
      "text/plain": [
       "(56031, 9)"
      ]
     },
     "execution_count": 65,
     "metadata": {},
     "output_type": "execute_result"
    }
   ],
   "source": [
    "df_deduplicated.shape"
   ]
  },
  {
   "cell_type": "code",
   "execution_count": 66,
   "metadata": {},
   "outputs": [
    {
     "data": {
      "text/plain": [
       "(109274, 9)"
      ]
     },
     "execution_count": 66,
     "metadata": {},
     "output_type": "execute_result"
    }
   ],
   "source": [
    "# add those rows from df_train_deduplicated to df_deduplicated that are not already present in df_deduplicated\n",
    "df_deduplicated = pd.concat([df_deduplicated, df_train_deduplicated]).drop_duplicates(subset=['oldf', 'patch', 'msg'], keep='first')\n",
    "df_deduplicated.shape"
   ]
  },
  {
   "cell_type": "code",
   "execution_count": 67,
   "metadata": {},
   "outputs": [
    {
     "data": {
      "text/plain": [
       "lang\n",
       "unk       53243\n",
       "java      30797\n",
       "python    20888\n",
       "js         2542\n",
       "php        1641\n",
       "cpp         114\n",
       "ruby         25\n",
       "go           22\n",
       "c             2\n",
       "Name: count, dtype: int64"
      ]
     },
     "execution_count": 67,
     "metadata": {},
     "output_type": "execute_result"
    }
   ],
   "source": [
    "df_deduplicated['lang'].value_counts()"
   ]
  },
  {
   "cell_type": "code",
   "execution_count": 69,
   "metadata": {},
   "outputs": [],
   "source": [
    "df_deduplicated.to_json(\"/home/mkapadni/work/crscore_plus_plus/Comment_Generation/msg-train_all_classified.json\", orient='records', lines=True)"
   ]
  },
  {
   "cell_type": "code",
   "execution_count": null,
   "metadata": {},
   "outputs": [],
   "source": []
  }
 ],
 "metadata": {
  "kernelspec": {
   "display_name": "gpu_env",
   "language": "python",
   "name": "python3"
  },
  "language_info": {
   "codemirror_mode": {
    "name": "ipython",
    "version": 3
   },
   "file_extension": ".py",
   "mimetype": "text/x-python",
   "name": "python",
   "nbconvert_exporter": "python",
   "pygments_lexer": "ipython3",
   "version": "3.10.15"
  }
 },
 "nbformat": 4,
 "nbformat_minor": 2
}
